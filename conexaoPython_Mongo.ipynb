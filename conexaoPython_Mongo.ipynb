{
  "cells": [
    {
      "cell_type": "markdown",
      "metadata": {
        "id": "view-in-github",
        "colab_type": "text"
      },
      "source": [
        "<a href=\"https://colab.research.google.com/github/MariaNatiele/Estudando_DataScience/blob/main/conexaoPython_Mongo.ipynb\" target=\"_parent\"><img src=\"https://colab.research.google.com/assets/colab-badge.svg\" alt=\"Open In Colab\"/></a>"
      ]
    },
    {
      "cell_type": "code",
      "execution_count": null,
      "metadata": {
        "id": "u_VggVR-WgVw",
        "outputId": "c519d6da-1015-40f0-9c14-1cd5e1de771c"
      },
      "outputs": [
        {
          "name": "stdout",
          "output_type": "stream",
          "text": [
            "Collecting pymongo\n",
            "  Downloading pymongo-4.3.3-cp39-cp39-win_amd64.whl (382 kB)\n",
            "     -------------------------------------- 382.5/382.5 kB 4.8 MB/s eta 0:00:00\n",
            "Collecting dnspython<3.0.0,>=1.16.0\n",
            "  Downloading dnspython-2.3.0-py3-none-any.whl (283 kB)\n",
            "     ------------------------------------ 283.7/283.7 kB 729.2 kB/s eta 0:00:00\n",
            "Installing collected packages: dnspython, pymongo\n",
            "Successfully installed dnspython-2.3.0 pymongo-4.3.3\n",
            "Note: you may need to restart the kernel to use updated packages.\n"
          ]
        },
        {
          "name": "stderr",
          "output_type": "stream",
          "text": [
            "\n",
            "[notice] A new release of pip available: 22.2.1 -> 23.1.2\n",
            "[notice] To update, run: C:\\Users\\maria\\AppData\\Local\\Microsoft\\WindowsApps\\PythonSoftwareFoundation.Python.3.9_qbz5n2kfra8p0\\python.exe -m pip install --upgrade pip\n"
          ]
        }
      ],
      "source": [
        "#instalar o pymongo\n",
        "pip install pymongo"
      ]
    },
    {
      "cell_type": "code",
      "execution_count": null,
      "metadata": {
        "id": "DVFkQ1cwWgV3"
      },
      "outputs": [],
      "source": [
        "from  pymongo import MongoClient"
      ]
    },
    {
      "cell_type": "code",
      "execution_count": null,
      "metadata": {
        "id": "dDnlt1k0WgV3"
      },
      "outputs": [],
      "source": [
        "cliente = MongoClient()"
      ]
    },
    {
      "cell_type": "code",
      "execution_count": null,
      "metadata": {
        "id": "T__W5nJVWgV4"
      },
      "outputs": [],
      "source": [
        "cliente = MongoClient('localhost', 27017)"
      ]
    },
    {
      "cell_type": "code",
      "execution_count": null,
      "metadata": {
        "id": "HNkQYzhNWgV4"
      },
      "outputs": [],
      "source": [
        "cliente = MongoClient('mongodb://localhost:27017/')\n",
        "db = cliente.dbmidias\n",
        "conexao = db.posts"
      ]
    },
    {
      "cell_type": "code",
      "execution_count": null,
      "metadata": {
        "id": "t6nQxA7XWgV5",
        "outputId": "22f6b0c2-82aa-4280-a97a-b8fc590433ad"
      },
      "outputs": [
        {
          "name": "stdout",
          "output_type": "stream",
          "text": [
            "{'_id': ObjectId('647f9cf1fea9210cfdbcc4d2'), 'nome': 'Nathy', 'postagem': 'Bons Produtos', 'data': '31-05-2023'}\n"
          ]
        }
      ],
      "source": [
        "#mostrando um documento\n",
        "print(conexao.find_one())"
      ]
    },
    {
      "cell_type": "code",
      "execution_count": null,
      "metadata": {
        "id": "MJzsJJ-CWgV8",
        "outputId": "a34fab40-66a9-4e17-866c-b8e64d34ce29"
      },
      "outputs": [
        {
          "name": "stdout",
          "output_type": "stream",
          "text": [
            "{'_id': ObjectId('647f9cf1fea9210cfdbcc4d2'), 'nome': 'Nathy', 'postagem': 'Bons Produtos', 'data': '31-05-2023'}\n",
            "{'_id': ObjectId('647f9d97fea9210cfdbcc4d3'), 'nome': 'Ana', 'postagem': 'Bom', 'data': '12-06-2023'}\n",
            "{'_id': ObjectId('647f9e05fea9210cfdbcc4d4'), 'nome': 'Ana', 'postagem': 'Bom', 'data': '12-06-2023'}\n",
            "{'_id': ObjectId('647f9e05fea9210cfdbcc4d5'), 'nome': 'Aline Morais', 'postagem': 'ola'}\n",
            "{'_id': ObjectId('647f9fd6fea9210cfdbcc4d6'), 'nome': 'Jose', 'postagem': 'loja feia', 'data': '30-01-2022'}\n",
            "{'_id': ObjectId('647f9fd6fea9210cfdbcc4d7'), 'nome': 'jose', 'postagem': 'Minha lohja virtual', 'data': '25-06-2022'}\n"
          ]
        }
      ],
      "source": [
        "#mostrando varios documentos\n",
        "for i in conexao.find():\n",
        "    print(i)"
      ]
    },
    {
      "cell_type": "code",
      "source": [
        "cliente.close()"
      ],
      "metadata": {
        "id": "vnaPktXWXMEI"
      },
      "execution_count": null,
      "outputs": []
    }
  ],
  "metadata": {
    "kernelspec": {
      "display_name": "Python 3",
      "language": "python",
      "name": "python3"
    },
    "language_info": {
      "codemirror_mode": {
        "name": "ipython",
        "version": 3
      },
      "file_extension": ".py",
      "mimetype": "text/x-python",
      "name": "python",
      "nbconvert_exporter": "python",
      "pygments_lexer": "ipython3",
      "version": "3.9.13"
    },
    "orig_nbformat": 4,
    "colab": {
      "provenance": [],
      "include_colab_link": true
    }
  },
  "nbformat": 4,
  "nbformat_minor": 0
}