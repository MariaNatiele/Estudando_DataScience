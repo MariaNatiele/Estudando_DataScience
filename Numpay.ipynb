{
  "nbformat": 4,
  "nbformat_minor": 0,
  "metadata": {
    "colab": {
      "provenance": [],
      "authorship_tag": "ABX9TyMMoQuRr9PAtGhmhuvJfGrd",
      "include_colab_link": true
    },
    "kernelspec": {
      "name": "python3",
      "display_name": "Python 3"
    },
    "language_info": {
      "name": "python"
    }
  },
  "cells": [
    {
      "cell_type": "markdown",
      "metadata": {
        "id": "view-in-github",
        "colab_type": "text"
      },
      "source": [
        "<a href=\"https://colab.research.google.com/github/MariaNatiele/Edtudos_DataScience/blob/main/Numpay.ipynb\" target=\"_parent\"><img src=\"https://colab.research.google.com/assets/colab-badge.svg\" alt=\"Open In Colab\"/></a>"
      ]
    },
    {
      "cell_type": "markdown",
      "source": [
        "#Formação ciência de dados"
      ],
      "metadata": {
        "id": "6NreaVgVyZ8Y"
      }
    },
    {
      "cell_type": "markdown",
      "source": [
        "#Numpy é um biblioteca de analise de dados"
      ],
      "metadata": {
        "id": "i0zY65fdo2yD"
      }
    },
    {
      "cell_type": "code",
      "execution_count": null,
      "metadata": {
        "id": "94WabrTTozZH"
      },
      "outputs": [],
      "source": [
        "import numpy as np"
      ]
    },
    {
      "cell_type": "code",
      "source": [
        "\n",
        "#criando arry com definição de tipo\n",
        "array = np.array([15,6,9,8,7], dtype=np.int32)\n",
        "array2 = np.array([15,6,9,8,7], dtype=np.float64)"
      ],
      "metadata": {
        "id": "hN3euV_2pCP1"
      },
      "execution_count": null,
      "outputs": []
    },
    {
      "cell_type": "code",
      "source": [
        "array, array2"
      ],
      "metadata": {
        "colab": {
          "base_uri": "https://localhost:8080/"
        },
        "id": "1fhpLxlepcu7",
        "outputId": "931e8da2-bd6a-4c6a-bb73-a95252aac010"
      },
      "execution_count": null,
      "outputs": [
        {
          "output_type": "execute_result",
          "data": {
            "text/plain": [
              "(array([15,  6,  9,  8,  7], dtype=int32), array([15.,  6.,  9.,  8.,  7.]))"
            ]
          },
          "metadata": {},
          "execution_count": 3
        }
      ]
    },
    {
      "cell_type": "code",
      "source": [
        "#Matriz bidimensional\n",
        "matriz = np.array([[5,6,3],[18,25,66],[14,7,21]])"
      ],
      "metadata": {
        "id": "SGLSNweTrQsk"
      },
      "execution_count": null,
      "outputs": []
    },
    {
      "cell_type": "code",
      "source": [
        "matriz"
      ],
      "metadata": {
        "colab": {
          "base_uri": "https://localhost:8080/"
        },
        "id": "hSVRQa9FrtU6",
        "outputId": "c135a9ec-d244-4e79-b9b0-48b88dfeacd9"
      },
      "execution_count": null,
      "outputs": [
        {
          "output_type": "execute_result",
          "data": {
            "text/plain": [
              "array([[ 5,  6,  3],\n",
              "       [18, 25, 66],\n",
              "       [14,  7, 21]])"
            ]
          },
          "metadata": {},
          "execution_count": 5
        }
      ]
    },
    {
      "cell_type": "code",
      "source": [
        "aleatorio = np.random.random((5))\n",
        "aleatorio"
      ],
      "metadata": {
        "colab": {
          "base_uri": "https://localhost:8080/"
        },
        "id": "mrQXTgV8rvo6",
        "outputId": "21e0e547-9a5f-42f4-befd-46792adc83c0"
      },
      "execution_count": null,
      "outputs": [
        {
          "output_type": "execute_result",
          "data": {
            "text/plain": [
              "array([0.08561607, 0.80058586, 0.51966951, 0.16192452, 0.15455636])"
            ]
          },
          "metadata": {},
          "execution_count": 6
        }
      ]
    },
    {
      "cell_type": "code",
      "source": [
        "#numero aleatorio com sementes no numpy\n",
        "semente = np.random.default_rng(2)\n",
        "ale = semente.random(5)\n",
        "print(ale)\n",
        "print(\"------------------------------------------------------------------\")\n",
        "alet = semente.integers(10, size=(2,3))\n",
        "print(alet)"
      ],
      "metadata": {
        "colab": {
          "base_uri": "https://localhost:8080/"
        },
        "id": "mRyA5fAftD9f",
        "outputId": "4b53e607-0e4d-47e3-f8ee-8bcc010daaf7"
      },
      "execution_count": null,
      "outputs": [
        {
          "output_type": "stream",
          "name": "stdout",
          "text": [
            "[0.26161213 0.29849114 0.81422574 0.09191594 0.60010053]\n",
            "------------------------------------------------------------------\n",
            "[[8 7 9]\n",
            " [1 8 0]]\n"
          ]
        }
      ]
    },
    {
      "cell_type": "code",
      "source": [
        "#removendo repetição\n",
        "dados3 = np.array([1,5,9,8,7,4,1,2,5,5,6,3,6,25])\n",
        "dados3 = np.unique(dados3)\n",
        "dados3"
      ],
      "metadata": {
        "colab": {
          "base_uri": "https://localhost:8080/"
        },
        "id": "GebYMtKtu5aU",
        "outputId": "f7af3710-2697-4460-af64-17642f7bdb8f"
      },
      "execution_count": null,
      "outputs": [
        {
          "output_type": "execute_result",
          "data": {
            "text/plain": [
              "array([ 1,  2,  3,  4,  5,  6,  7,  8,  9, 25])"
            ]
          },
          "metadata": {},
          "execution_count": 8
        }
      ]
    },
    {
      "cell_type": "markdown",
      "source": [
        "#Funções Númericas"
      ],
      "metadata": {
        "id": "eGS4W2ERvW0O"
      }
    },
    {
      "cell_type": "code",
      "source": [
        "print('Max',dados3.max())\n",
        "print('Min',dados3.min())\n",
        "print('Sum',dados3.sum())\n",
        "print('Media',dados3.mean())\n",
        "print('STD -> desvio Padrão: ',dados3.std())"
      ],
      "metadata": {
        "colab": {
          "base_uri": "https://localhost:8080/"
        },
        "id": "54JBawhivZVq",
        "outputId": "ebf84b2d-15f3-4c26-f2be-4207eeb2e1ad"
      },
      "execution_count": null,
      "outputs": [
        {
          "output_type": "stream",
          "name": "stdout",
          "text": [
            "Max 25\n",
            "Min 1\n",
            "Sum 70\n",
            "Media 7.0\n",
            "STD -> desvio Padrão:  6.48074069840786\n"
          ]
        }
      ]
    },
    {
      "cell_type": "markdown",
      "source": [
        "##Extração de elementos"
      ],
      "metadata": {
        "id": "MVUtZKSBw1bT"
      }
    },
    {
      "cell_type": "code",
      "source": [
        "m = np.array([1,5,8,10,36,28])\n",
        "print(m[1:2])\n",
        "print('-----------------------------')\n",
        "print(m[0:3])"
      ],
      "metadata": {
        "colab": {
          "base_uri": "https://localhost:8080/"
        },
        "id": "yddmUwvbw3_P",
        "outputId": "bb8981e8-60fc-4976-d58d-874c4a82f17b"
      },
      "execution_count": null,
      "outputs": [
        {
          "output_type": "stream",
          "name": "stdout",
          "text": [
            "[5]\n",
            "-----------------------------\n",
            "[1 5 8]\n"
          ]
        }
      ]
    },
    {
      "cell_type": "markdown",
      "source": [
        "#Pandas "
      ],
      "metadata": {
        "id": "ZBZcWlqByC_G"
      }
    },
    {
      "cell_type": "code",
      "source": [
        "import pandas as pd"
      ],
      "metadata": {
        "id": "lcQLUoeMyHoT"
      },
      "execution_count": null,
      "outputs": []
    },
    {
      "cell_type": "code",
      "source": [
        "#Carregando dados\n",
        "dados = pd.read_csv(\"Popular_Baby_Names.csv\")"
      ],
      "metadata": {
        "id": "WQG3zhf4yNoX"
      },
      "execution_count": null,
      "outputs": []
    },
    {
      "cell_type": "code",
      "source": [
        "dados.head()"
      ],
      "metadata": {
        "colab": {
          "base_uri": "https://localhost:8080/",
          "height": 206
        },
        "id": "QSsDlkx90HTY",
        "outputId": "feaa91ff-f03d-4f79-d4be-b59ac0a7cdff"
      },
      "execution_count": null,
      "outputs": [
        {
          "output_type": "execute_result",
          "data": {
            "text/plain": [
              "   Year of Birth  Gender Ethnicity Child's First Name  Count  Rank\n",
              "0           2011  FEMALE  HISPANIC          GERALDINE     13    75\n",
              "1           2011  FEMALE  HISPANIC                GIA     21    67\n",
              "2           2011  FEMALE  HISPANIC             GIANNA     49    42\n",
              "3           2011  FEMALE  HISPANIC            GISELLE     38    51\n",
              "4           2011  FEMALE  HISPANIC              GRACE     36    53"
            ],
            "text/html": [
              "\n",
              "  <div id=\"df-f308a1ca-c14a-4d8b-9a2a-8e48d46979b1\">\n",
              "    <div class=\"colab-df-container\">\n",
              "      <div>\n",
              "<style scoped>\n",
              "    .dataframe tbody tr th:only-of-type {\n",
              "        vertical-align: middle;\n",
              "    }\n",
              "\n",
              "    .dataframe tbody tr th {\n",
              "        vertical-align: top;\n",
              "    }\n",
              "\n",
              "    .dataframe thead th {\n",
              "        text-align: right;\n",
              "    }\n",
              "</style>\n",
              "<table border=\"1\" class=\"dataframe\">\n",
              "  <thead>\n",
              "    <tr style=\"text-align: right;\">\n",
              "      <th></th>\n",
              "      <th>Year of Birth</th>\n",
              "      <th>Gender</th>\n",
              "      <th>Ethnicity</th>\n",
              "      <th>Child's First Name</th>\n",
              "      <th>Count</th>\n",
              "      <th>Rank</th>\n",
              "    </tr>\n",
              "  </thead>\n",
              "  <tbody>\n",
              "    <tr>\n",
              "      <th>0</th>\n",
              "      <td>2011</td>\n",
              "      <td>FEMALE</td>\n",
              "      <td>HISPANIC</td>\n",
              "      <td>GERALDINE</td>\n",
              "      <td>13</td>\n",
              "      <td>75</td>\n",
              "    </tr>\n",
              "    <tr>\n",
              "      <th>1</th>\n",
              "      <td>2011</td>\n",
              "      <td>FEMALE</td>\n",
              "      <td>HISPANIC</td>\n",
              "      <td>GIA</td>\n",
              "      <td>21</td>\n",
              "      <td>67</td>\n",
              "    </tr>\n",
              "    <tr>\n",
              "      <th>2</th>\n",
              "      <td>2011</td>\n",
              "      <td>FEMALE</td>\n",
              "      <td>HISPANIC</td>\n",
              "      <td>GIANNA</td>\n",
              "      <td>49</td>\n",
              "      <td>42</td>\n",
              "    </tr>\n",
              "    <tr>\n",
              "      <th>3</th>\n",
              "      <td>2011</td>\n",
              "      <td>FEMALE</td>\n",
              "      <td>HISPANIC</td>\n",
              "      <td>GISELLE</td>\n",
              "      <td>38</td>\n",
              "      <td>51</td>\n",
              "    </tr>\n",
              "    <tr>\n",
              "      <th>4</th>\n",
              "      <td>2011</td>\n",
              "      <td>FEMALE</td>\n",
              "      <td>HISPANIC</td>\n",
              "      <td>GRACE</td>\n",
              "      <td>36</td>\n",
              "      <td>53</td>\n",
              "    </tr>\n",
              "  </tbody>\n",
              "</table>\n",
              "</div>\n",
              "      <button class=\"colab-df-convert\" onclick=\"convertToInteractive('df-f308a1ca-c14a-4d8b-9a2a-8e48d46979b1')\"\n",
              "              title=\"Convert this dataframe to an interactive table.\"\n",
              "              style=\"display:none;\">\n",
              "        \n",
              "  <svg xmlns=\"http://www.w3.org/2000/svg\" height=\"24px\"viewBox=\"0 0 24 24\"\n",
              "       width=\"24px\">\n",
              "    <path d=\"M0 0h24v24H0V0z\" fill=\"none\"/>\n",
              "    <path d=\"M18.56 5.44l.94 2.06.94-2.06 2.06-.94-2.06-.94-.94-2.06-.94 2.06-2.06.94zm-11 1L8.5 8.5l.94-2.06 2.06-.94-2.06-.94L8.5 2.5l-.94 2.06-2.06.94zm10 10l.94 2.06.94-2.06 2.06-.94-2.06-.94-.94-2.06-.94 2.06-2.06.94z\"/><path d=\"M17.41 7.96l-1.37-1.37c-.4-.4-.92-.59-1.43-.59-.52 0-1.04.2-1.43.59L10.3 9.45l-7.72 7.72c-.78.78-.78 2.05 0 2.83L4 21.41c.39.39.9.59 1.41.59.51 0 1.02-.2 1.41-.59l7.78-7.78 2.81-2.81c.8-.78.8-2.07 0-2.86zM5.41 20L4 18.59l7.72-7.72 1.47 1.35L5.41 20z\"/>\n",
              "  </svg>\n",
              "      </button>\n",
              "      \n",
              "  <style>\n",
              "    .colab-df-container {\n",
              "      display:flex;\n",
              "      flex-wrap:wrap;\n",
              "      gap: 12px;\n",
              "    }\n",
              "\n",
              "    .colab-df-convert {\n",
              "      background-color: #E8F0FE;\n",
              "      border: none;\n",
              "      border-radius: 50%;\n",
              "      cursor: pointer;\n",
              "      display: none;\n",
              "      fill: #1967D2;\n",
              "      height: 32px;\n",
              "      padding: 0 0 0 0;\n",
              "      width: 32px;\n",
              "    }\n",
              "\n",
              "    .colab-df-convert:hover {\n",
              "      background-color: #E2EBFA;\n",
              "      box-shadow: 0px 1px 2px rgba(60, 64, 67, 0.3), 0px 1px 3px 1px rgba(60, 64, 67, 0.15);\n",
              "      fill: #174EA6;\n",
              "    }\n",
              "\n",
              "    [theme=dark] .colab-df-convert {\n",
              "      background-color: #3B4455;\n",
              "      fill: #D2E3FC;\n",
              "    }\n",
              "\n",
              "    [theme=dark] .colab-df-convert:hover {\n",
              "      background-color: #434B5C;\n",
              "      box-shadow: 0px 1px 3px 1px rgba(0, 0, 0, 0.15);\n",
              "      filter: drop-shadow(0px 1px 2px rgba(0, 0, 0, 0.3));\n",
              "      fill: #FFFFFF;\n",
              "    }\n",
              "  </style>\n",
              "\n",
              "      <script>\n",
              "        const buttonEl =\n",
              "          document.querySelector('#df-f308a1ca-c14a-4d8b-9a2a-8e48d46979b1 button.colab-df-convert');\n",
              "        buttonEl.style.display =\n",
              "          google.colab.kernel.accessAllowed ? 'block' : 'none';\n",
              "\n",
              "        async function convertToInteractive(key) {\n",
              "          const element = document.querySelector('#df-f308a1ca-c14a-4d8b-9a2a-8e48d46979b1');\n",
              "          const dataTable =\n",
              "            await google.colab.kernel.invokeFunction('convertToInteractive',\n",
              "                                                     [key], {});\n",
              "          if (!dataTable) return;\n",
              "\n",
              "          const docLinkHtml = 'Like what you see? Visit the ' +\n",
              "            '<a target=\"_blank\" href=https://colab.research.google.com/notebooks/data_table.ipynb>data table notebook</a>'\n",
              "            + ' to learn more about interactive tables.';\n",
              "          element.innerHTML = '';\n",
              "          dataTable['output_type'] = 'display_data';\n",
              "          await google.colab.output.renderOutput(dataTable, element);\n",
              "          const docLink = document.createElement('div');\n",
              "          docLink.innerHTML = docLinkHtml;\n",
              "          element.appendChild(docLink);\n",
              "        }\n",
              "      </script>\n",
              "    </div>\n",
              "  </div>\n",
              "  "
            ]
          },
          "metadata": {},
          "execution_count": 13
        }
      ]
    },
    {
      "cell_type": "code",
      "source": [
        "print(\"Linhas e colunas\",dados.shape)\n",
        "print(\"-----------------------------------------------\")\n",
        "print(\"ultimas linhas\",dados.tail(2))"
      ],
      "metadata": {
        "colab": {
          "base_uri": "https://localhost:8080/"
        },
        "id": "eKhVC5Q-0NlF",
        "outputId": "aeb50a4a-89ce-45a8-ebe0-8ca0a9ae88bd"
      },
      "execution_count": null,
      "outputs": [
        {
          "output_type": "stream",
          "name": "stdout",
          "text": [
            "Linhas e colunas (49509, 6)\n",
            "-----------------------------------------------\n",
            "ultimas linhas        Year of Birth  Gender           Ethnicity Child's First Name  Count  \\\n",
            "49507           2018  FEMALE  BLACK NON HISPANIC             Simone     10   \n",
            "49508           2018  FEMALE  BLACK NON HISPANIC              Zahra     10   \n",
            "\n",
            "       Rank  \n",
            "49507    40  \n",
            "49508    40  \n"
          ]
        }
      ]
    },
    {
      "cell_type": "code",
      "source": [
        "#descrição dos dados\n",
        "dados.describe()"
      ],
      "metadata": {
        "colab": {
          "base_uri": "https://localhost:8080/",
          "height": 300
        },
        "id": "7bCtay9A2lKn",
        "outputId": "7846252d-3896-40cb-9f15-cb5cbf7babe5"
      },
      "execution_count": null,
      "outputs": [
        {
          "output_type": "execute_result",
          "data": {
            "text/plain": [
              "       Year of Birth         Count          Rank\n",
              "count   49509.000000  49509.000000  49509.000000\n",
              "mean     2013.407421     33.839807     57.032418\n",
              "std         2.145505     38.877785     25.504754\n",
              "min      2011.000000     10.000000      1.000000\n",
              "25%      2012.000000     13.000000     38.000000\n",
              "50%      2013.000000     20.000000     58.000000\n",
              "75%      2014.000000     36.000000     78.000000\n",
              "max      2019.000000    426.000000    102.000000"
            ],
            "text/html": [
              "\n",
              "  <div id=\"df-5c2a9089-3f02-475f-8763-44f70e18b18e\">\n",
              "    <div class=\"colab-df-container\">\n",
              "      <div>\n",
              "<style scoped>\n",
              "    .dataframe tbody tr th:only-of-type {\n",
              "        vertical-align: middle;\n",
              "    }\n",
              "\n",
              "    .dataframe tbody tr th {\n",
              "        vertical-align: top;\n",
              "    }\n",
              "\n",
              "    .dataframe thead th {\n",
              "        text-align: right;\n",
              "    }\n",
              "</style>\n",
              "<table border=\"1\" class=\"dataframe\">\n",
              "  <thead>\n",
              "    <tr style=\"text-align: right;\">\n",
              "      <th></th>\n",
              "      <th>Year of Birth</th>\n",
              "      <th>Count</th>\n",
              "      <th>Rank</th>\n",
              "    </tr>\n",
              "  </thead>\n",
              "  <tbody>\n",
              "    <tr>\n",
              "      <th>count</th>\n",
              "      <td>49509.000000</td>\n",
              "      <td>49509.000000</td>\n",
              "      <td>49509.000000</td>\n",
              "    </tr>\n",
              "    <tr>\n",
              "      <th>mean</th>\n",
              "      <td>2013.407421</td>\n",
              "      <td>33.839807</td>\n",
              "      <td>57.032418</td>\n",
              "    </tr>\n",
              "    <tr>\n",
              "      <th>std</th>\n",
              "      <td>2.145505</td>\n",
              "      <td>38.877785</td>\n",
              "      <td>25.504754</td>\n",
              "    </tr>\n",
              "    <tr>\n",
              "      <th>min</th>\n",
              "      <td>2011.000000</td>\n",
              "      <td>10.000000</td>\n",
              "      <td>1.000000</td>\n",
              "    </tr>\n",
              "    <tr>\n",
              "      <th>25%</th>\n",
              "      <td>2012.000000</td>\n",
              "      <td>13.000000</td>\n",
              "      <td>38.000000</td>\n",
              "    </tr>\n",
              "    <tr>\n",
              "      <th>50%</th>\n",
              "      <td>2013.000000</td>\n",
              "      <td>20.000000</td>\n",
              "      <td>58.000000</td>\n",
              "    </tr>\n",
              "    <tr>\n",
              "      <th>75%</th>\n",
              "      <td>2014.000000</td>\n",
              "      <td>36.000000</td>\n",
              "      <td>78.000000</td>\n",
              "    </tr>\n",
              "    <tr>\n",
              "      <th>max</th>\n",
              "      <td>2019.000000</td>\n",
              "      <td>426.000000</td>\n",
              "      <td>102.000000</td>\n",
              "    </tr>\n",
              "  </tbody>\n",
              "</table>\n",
              "</div>\n",
              "      <button class=\"colab-df-convert\" onclick=\"convertToInteractive('df-5c2a9089-3f02-475f-8763-44f70e18b18e')\"\n",
              "              title=\"Convert this dataframe to an interactive table.\"\n",
              "              style=\"display:none;\">\n",
              "        \n",
              "  <svg xmlns=\"http://www.w3.org/2000/svg\" height=\"24px\"viewBox=\"0 0 24 24\"\n",
              "       width=\"24px\">\n",
              "    <path d=\"M0 0h24v24H0V0z\" fill=\"none\"/>\n",
              "    <path d=\"M18.56 5.44l.94 2.06.94-2.06 2.06-.94-2.06-.94-.94-2.06-.94 2.06-2.06.94zm-11 1L8.5 8.5l.94-2.06 2.06-.94-2.06-.94L8.5 2.5l-.94 2.06-2.06.94zm10 10l.94 2.06.94-2.06 2.06-.94-2.06-.94-.94-2.06-.94 2.06-2.06.94z\"/><path d=\"M17.41 7.96l-1.37-1.37c-.4-.4-.92-.59-1.43-.59-.52 0-1.04.2-1.43.59L10.3 9.45l-7.72 7.72c-.78.78-.78 2.05 0 2.83L4 21.41c.39.39.9.59 1.41.59.51 0 1.02-.2 1.41-.59l7.78-7.78 2.81-2.81c.8-.78.8-2.07 0-2.86zM5.41 20L4 18.59l7.72-7.72 1.47 1.35L5.41 20z\"/>\n",
              "  </svg>\n",
              "      </button>\n",
              "      \n",
              "  <style>\n",
              "    .colab-df-container {\n",
              "      display:flex;\n",
              "      flex-wrap:wrap;\n",
              "      gap: 12px;\n",
              "    }\n",
              "\n",
              "    .colab-df-convert {\n",
              "      background-color: #E8F0FE;\n",
              "      border: none;\n",
              "      border-radius: 50%;\n",
              "      cursor: pointer;\n",
              "      display: none;\n",
              "      fill: #1967D2;\n",
              "      height: 32px;\n",
              "      padding: 0 0 0 0;\n",
              "      width: 32px;\n",
              "    }\n",
              "\n",
              "    .colab-df-convert:hover {\n",
              "      background-color: #E2EBFA;\n",
              "      box-shadow: 0px 1px 2px rgba(60, 64, 67, 0.3), 0px 1px 3px 1px rgba(60, 64, 67, 0.15);\n",
              "      fill: #174EA6;\n",
              "    }\n",
              "\n",
              "    [theme=dark] .colab-df-convert {\n",
              "      background-color: #3B4455;\n",
              "      fill: #D2E3FC;\n",
              "    }\n",
              "\n",
              "    [theme=dark] .colab-df-convert:hover {\n",
              "      background-color: #434B5C;\n",
              "      box-shadow: 0px 1px 3px 1px rgba(0, 0, 0, 0.15);\n",
              "      filter: drop-shadow(0px 1px 2px rgba(0, 0, 0, 0.3));\n",
              "      fill: #FFFFFF;\n",
              "    }\n",
              "  </style>\n",
              "\n",
              "      <script>\n",
              "        const buttonEl =\n",
              "          document.querySelector('#df-5c2a9089-3f02-475f-8763-44f70e18b18e button.colab-df-convert');\n",
              "        buttonEl.style.display =\n",
              "          google.colab.kernel.accessAllowed ? 'block' : 'none';\n",
              "\n",
              "        async function convertToInteractive(key) {\n",
              "          const element = document.querySelector('#df-5c2a9089-3f02-475f-8763-44f70e18b18e');\n",
              "          const dataTable =\n",
              "            await google.colab.kernel.invokeFunction('convertToInteractive',\n",
              "                                                     [key], {});\n",
              "          if (!dataTable) return;\n",
              "\n",
              "          const docLinkHtml = 'Like what you see? Visit the ' +\n",
              "            '<a target=\"_blank\" href=https://colab.research.google.com/notebooks/data_table.ipynb>data table notebook</a>'\n",
              "            + ' to learn more about interactive tables.';\n",
              "          element.innerHTML = '';\n",
              "          dataTable['output_type'] = 'display_data';\n",
              "          await google.colab.output.renderOutput(dataTable, element);\n",
              "          const docLink = document.createElement('div');\n",
              "          docLink.innerHTML = docLinkHtml;\n",
              "          element.appendChild(docLink);\n",
              "        }\n",
              "      </script>\n",
              "    </div>\n",
              "  </div>\n",
              "  "
            ]
          },
          "metadata": {},
          "execution_count": 15
        }
      ]
    },
    {
      "cell_type": "code",
      "source": [
        "#mostrar só uma coluna\n",
        "dados.columns\n",
        "dados[[\"Child's First Name\"]]"
      ],
      "metadata": {
        "colab": {
          "base_uri": "https://localhost:8080/",
          "height": 424
        },
        "id": "RRQhKYw63G3N",
        "outputId": "78e98bd4-75fe-41f9-af7d-a4c6286e34d6"
      },
      "execution_count": null,
      "outputs": [
        {
          "output_type": "execute_result",
          "data": {
            "text/plain": [
              "      Child's First Name\n",
              "0              GERALDINE\n",
              "1                    GIA\n",
              "2                 GIANNA\n",
              "3                GISELLE\n",
              "4                  GRACE\n",
              "...                  ...\n",
              "49504               Nala\n",
              "49505            Royalty\n",
              "49506            Sariyah\n",
              "49507             Simone\n",
              "49508              Zahra\n",
              "\n",
              "[49509 rows x 1 columns]"
            ],
            "text/html": [
              "\n",
              "  <div id=\"df-2976bd21-cd81-469b-a81f-ebebc638ca95\">\n",
              "    <div class=\"colab-df-container\">\n",
              "      <div>\n",
              "<style scoped>\n",
              "    .dataframe tbody tr th:only-of-type {\n",
              "        vertical-align: middle;\n",
              "    }\n",
              "\n",
              "    .dataframe tbody tr th {\n",
              "        vertical-align: top;\n",
              "    }\n",
              "\n",
              "    .dataframe thead th {\n",
              "        text-align: right;\n",
              "    }\n",
              "</style>\n",
              "<table border=\"1\" class=\"dataframe\">\n",
              "  <thead>\n",
              "    <tr style=\"text-align: right;\">\n",
              "      <th></th>\n",
              "      <th>Child's First Name</th>\n",
              "    </tr>\n",
              "  </thead>\n",
              "  <tbody>\n",
              "    <tr>\n",
              "      <th>0</th>\n",
              "      <td>GERALDINE</td>\n",
              "    </tr>\n",
              "    <tr>\n",
              "      <th>1</th>\n",
              "      <td>GIA</td>\n",
              "    </tr>\n",
              "    <tr>\n",
              "      <th>2</th>\n",
              "      <td>GIANNA</td>\n",
              "    </tr>\n",
              "    <tr>\n",
              "      <th>3</th>\n",
              "      <td>GISELLE</td>\n",
              "    </tr>\n",
              "    <tr>\n",
              "      <th>4</th>\n",
              "      <td>GRACE</td>\n",
              "    </tr>\n",
              "    <tr>\n",
              "      <th>...</th>\n",
              "      <td>...</td>\n",
              "    </tr>\n",
              "    <tr>\n",
              "      <th>49504</th>\n",
              "      <td>Nala</td>\n",
              "    </tr>\n",
              "    <tr>\n",
              "      <th>49505</th>\n",
              "      <td>Royalty</td>\n",
              "    </tr>\n",
              "    <tr>\n",
              "      <th>49506</th>\n",
              "      <td>Sariyah</td>\n",
              "    </tr>\n",
              "    <tr>\n",
              "      <th>49507</th>\n",
              "      <td>Simone</td>\n",
              "    </tr>\n",
              "    <tr>\n",
              "      <th>49508</th>\n",
              "      <td>Zahra</td>\n",
              "    </tr>\n",
              "  </tbody>\n",
              "</table>\n",
              "<p>49509 rows × 1 columns</p>\n",
              "</div>\n",
              "      <button class=\"colab-df-convert\" onclick=\"convertToInteractive('df-2976bd21-cd81-469b-a81f-ebebc638ca95')\"\n",
              "              title=\"Convert this dataframe to an interactive table.\"\n",
              "              style=\"display:none;\">\n",
              "        \n",
              "  <svg xmlns=\"http://www.w3.org/2000/svg\" height=\"24px\"viewBox=\"0 0 24 24\"\n",
              "       width=\"24px\">\n",
              "    <path d=\"M0 0h24v24H0V0z\" fill=\"none\"/>\n",
              "    <path d=\"M18.56 5.44l.94 2.06.94-2.06 2.06-.94-2.06-.94-.94-2.06-.94 2.06-2.06.94zm-11 1L8.5 8.5l.94-2.06 2.06-.94-2.06-.94L8.5 2.5l-.94 2.06-2.06.94zm10 10l.94 2.06.94-2.06 2.06-.94-2.06-.94-.94-2.06-.94 2.06-2.06.94z\"/><path d=\"M17.41 7.96l-1.37-1.37c-.4-.4-.92-.59-1.43-.59-.52 0-1.04.2-1.43.59L10.3 9.45l-7.72 7.72c-.78.78-.78 2.05 0 2.83L4 21.41c.39.39.9.59 1.41.59.51 0 1.02-.2 1.41-.59l7.78-7.78 2.81-2.81c.8-.78.8-2.07 0-2.86zM5.41 20L4 18.59l7.72-7.72 1.47 1.35L5.41 20z\"/>\n",
              "  </svg>\n",
              "      </button>\n",
              "      \n",
              "  <style>\n",
              "    .colab-df-container {\n",
              "      display:flex;\n",
              "      flex-wrap:wrap;\n",
              "      gap: 12px;\n",
              "    }\n",
              "\n",
              "    .colab-df-convert {\n",
              "      background-color: #E8F0FE;\n",
              "      border: none;\n",
              "      border-radius: 50%;\n",
              "      cursor: pointer;\n",
              "      display: none;\n",
              "      fill: #1967D2;\n",
              "      height: 32px;\n",
              "      padding: 0 0 0 0;\n",
              "      width: 32px;\n",
              "    }\n",
              "\n",
              "    .colab-df-convert:hover {\n",
              "      background-color: #E2EBFA;\n",
              "      box-shadow: 0px 1px 2px rgba(60, 64, 67, 0.3), 0px 1px 3px 1px rgba(60, 64, 67, 0.15);\n",
              "      fill: #174EA6;\n",
              "    }\n",
              "\n",
              "    [theme=dark] .colab-df-convert {\n",
              "      background-color: #3B4455;\n",
              "      fill: #D2E3FC;\n",
              "    }\n",
              "\n",
              "    [theme=dark] .colab-df-convert:hover {\n",
              "      background-color: #434B5C;\n",
              "      box-shadow: 0px 1px 3px 1px rgba(0, 0, 0, 0.15);\n",
              "      filter: drop-shadow(0px 1px 2px rgba(0, 0, 0, 0.3));\n",
              "      fill: #FFFFFF;\n",
              "    }\n",
              "  </style>\n",
              "\n",
              "      <script>\n",
              "        const buttonEl =\n",
              "          document.querySelector('#df-2976bd21-cd81-469b-a81f-ebebc638ca95 button.colab-df-convert');\n",
              "        buttonEl.style.display =\n",
              "          google.colab.kernel.accessAllowed ? 'block' : 'none';\n",
              "\n",
              "        async function convertToInteractive(key) {\n",
              "          const element = document.querySelector('#df-2976bd21-cd81-469b-a81f-ebebc638ca95');\n",
              "          const dataTable =\n",
              "            await google.colab.kernel.invokeFunction('convertToInteractive',\n",
              "                                                     [key], {});\n",
              "          if (!dataTable) return;\n",
              "\n",
              "          const docLinkHtml = 'Like what you see? Visit the ' +\n",
              "            '<a target=\"_blank\" href=https://colab.research.google.com/notebooks/data_table.ipynb>data table notebook</a>'\n",
              "            + ' to learn more about interactive tables.';\n",
              "          element.innerHTML = '';\n",
              "          dataTable['output_type'] = 'display_data';\n",
              "          await google.colab.output.renderOutput(dataTable, element);\n",
              "          const docLink = document.createElement('div');\n",
              "          docLink.innerHTML = docLinkHtml;\n",
              "          element.appendChild(docLink);\n",
              "        }\n",
              "      </script>\n",
              "    </div>\n",
              "  </div>\n",
              "  "
            ]
          },
          "metadata": {},
          "execution_count": 16
        }
      ]
    },
    {
      "cell_type": "markdown",
      "source": [
        "#Modulos e Pacotes"
      ],
      "metadata": {
        "id": "9mxRSrlb_Dm8"
      }
    },
    {
      "cell_type": "markdown",
      "source": [
        "#Statistics \n",
        "https://docs.python.org/pt-br/3/library/statistics.html"
      ],
      "metadata": {
        "id": "nzG08y9SAUCh"
      }
    },
    {
      "cell_type": "code",
      "source": [
        "import statistics as es\n"
      ],
      "metadata": {
        "id": "FNc7zKwG_GcU"
      },
      "execution_count": null,
      "outputs": []
    },
    {
      "cell_type": "code",
      "source": [
        "conjunto = [1,25,8,6,9,7,4,6,10]\n",
        "a = es.mean(conjunto)\n",
        "b = es.median(conjunto)\n",
        "c = es.mode(conjunto)\n",
        "print(a)\n",
        "print(\"Median\",b)\n",
        "print(\"Mode\",c)"
      ],
      "metadata": {
        "colab": {
          "base_uri": "https://localhost:8080/"
        },
        "id": "RbYC82V7_T5m",
        "outputId": "29842398-0527-42ba-8c9e-96c5feeff6ca"
      },
      "execution_count": null,
      "outputs": [
        {
          "output_type": "stream",
          "name": "stdout",
          "text": [
            "8.444444444444445\n",
            "Median 7\n",
            "Mode 6\n"
          ]
        }
      ]
    },
    {
      "cell_type": "markdown",
      "source": [
        "#Função"
      ],
      "metadata": {
        "id": "Ki3_MOAhTEQq"
      }
    },
    {
      "cell_type": "code",
      "source": [
        "def minhafuncao(num):\n",
        "    return num * 2\n",
        "print(\"Retorno da Função \",minhafuncao(12))\n"
      ],
      "metadata": {
        "id": "c-qFUJfFTGSz"
      },
      "execution_count": null,
      "outputs": []
    },
    {
      "cell_type": "markdown",
      "source": [
        "1. Faca um programa que tenha uma função chamada Amplitude. A função deve receber uma lista e imprimir a amplitude. Cire também um código para testar a função\n",
        "\n",
        "2. Faça uma função que receba ua string e imprima esta stringna forma vertical \n",
        "P\n",
        "y\n",
        "t\n",
        "h\n",
        "o\n",
        "n\n",
        "Uma String funciona como uma lista.\n",
        "\n",
        "3. Crie um programa que leia o peso de uma carga em números inteiros . Se o peso fro até 10kg, informe que o valor será de 50. Entre 11 e 20, informe que o valor será de 80. Se for maior de 20 informe que o transporte não é aceito,"
      ],
      "metadata": {
        "id": "NQ8tyHUaXhTA"
      }
    },
    {
      "cell_type": "code",
      "source": [
        "#função chamada Amplitude\n",
        "def Amplitude(valor):\n",
        "  m = max(valor)\n",
        "  n = min(valor)\n",
        "  return m - n\n",
        "\n",
        "lista = [25,6,9,8,7,10,2]\n",
        "print(Amplitude(lista))\n"
      ],
      "metadata": {
        "id": "Iuw0hEIZTgAc"
      },
      "execution_count": null,
      "outputs": []
    },
    {
      "cell_type": "code",
      "source": [
        "#string e imprima na vertical\n",
        "def funct(nome):\n",
        "  num = len(nome)\n",
        "  for i in range(1,num):\n",
        "    print(nome[i])\n",
        "\n",
        "\n",
        "funct(\"Maria\")"
      ],
      "metadata": {
        "colab": {
          "base_uri": "https://localhost:8080/"
        },
        "id": "wd2VwzDRYgBd",
        "outputId": "dbd1a799-f41c-454e-9599-f3fa42b2a11a"
      },
      "execution_count": null,
      "outputs": [
        {
          "output_type": "stream",
          "name": "stdout",
          "text": [
            "a\n",
            "r\n",
            "i\n",
            "a\n"
          ]
        }
      ]
    },
    {
      "cell_type": "code",
      "source": [
        "#Crie um programa que leia o peso de uma carga em números inteiros . Se o peso fro até 10kg, informe que o  Entre 11 e 20,\n",
        "# informe que . Se for maior de 20 informe que ,\n",
        "\n",
        "def conta(valor):\n",
        "  if valor <=10 : \n",
        "    print(\"valor será de 50.\")\n",
        "  elif valor == 11 or valor <= 20:\n",
        "    print(\"o valor será de 80\")\n",
        "  if valor > 20 :\n",
        "    print(\"o transporte não é aceito\")\n",
        "\n",
        "\n",
        "\n",
        "conta(25)\n"
      ],
      "metadata": {
        "colab": {
          "base_uri": "https://localhost:8080/"
        },
        "id": "aP0deOOjcLB1",
        "outputId": "8295b9ad-417d-49d2-c665-a0b3aa3c62b5"
      },
      "execution_count": null,
      "outputs": [
        {
          "output_type": "stream",
          "name": "stdout",
          "text": [
            "o transporte não é aceito\n"
          ]
        }
      ]
    },
    {
      "cell_type": "markdown",
      "source": [
        "#Limpeza e Tratamento de Dados"
      ],
      "metadata": {
        "id": "cJL9r-VhdnQ2"
      }
    },
    {
      "cell_type": "code",
      "source": [],
      "metadata": {
        "id": "3OKDJ_tmdqhY"
      },
      "execution_count": null,
      "outputs": []
    }
  ]
}